{
 "cells": [
  {
   "cell_type": "code",
   "execution_count": 2,
   "metadata": {},
   "outputs": [
    {
     "name": "stdout",
     "output_type": "stream",
     "text": [
      "获取到 28 条新闻\n"
     ]
    }
   ],
   "source": [
    "import requests\n",
    "from bs4 import BeautifulSoup\n",
    "import pandas as pd\n",
    "\n",
    "def fetch_news(url, source):\n",
    "    headers = {\n",
    "        'User-Agent': 'Mozilla/5.0 (Windows NT 10.0; Win64; x64) AppleWebKit/537.36 (KHTML, like Gecko) Chrome/91.0.4472.124 Safari/537.36'\n",
    "    }\n",
    "    response = requests.get(url, headers=headers)\n",
    "    soup = BeautifulSoup(response.text, 'html.parser')\n",
    "    news_items = []\n",
    "    \n",
    "    if source == 'us':\n",
    "        # 以CNBC为例\n",
    "        articles = soup.select('.Card-titleContainer')\n",
    "        for article in articles:\n",
    "            title = article.select_one('.Card-title').text.strip()\n",
    "            link = 'https://www.cnbc.com' + article.select_one('a')['href']\n",
    "            news_items.append({'title': title, 'link': link, 'source': 'US'})\n",
    "    elif source == 'tw':\n",
    "        # 以台灣經濟日報为例\n",
    "        articles = soup.select('.block_title')\n",
    "        for article in articles:\n",
    "            title = article.text.strip()\n",
    "            link = 'https://money.udn.com' + article.find('a')['href']\n",
    "            news_items.append({'title': title, 'link': link, 'source': 'TW'})\n",
    "    \n",
    "    return pd.DataFrame(news_items)\n",
    "\n",
    "try:\n",
    "    us_news = fetch_news('https://www.cnbc.com/world/?region=world', 'us')\n",
    "    tw_news = fetch_news('https://money.udn.com/money/cate/5591', 'tw')\n",
    "    all_news = pd.concat([us_news, tw_news])\n",
    "    print(f\"获取到 {len(all_news)} 条新闻\")\n",
    "except Exception as e:\n",
    "    print(f\"获取新闻时出错: {str(e)}\")"
   ]
  },
  {
   "cell_type": "markdown",
   "metadata": {},
   "source": [
    "## Bing Chat"
   ]
  },
  {
   "cell_type": "code",
   "execution_count": 5,
   "metadata": {},
   "outputs": [
    {
     "name": "stdout",
     "output_type": "stream",
     "text": [
      "                                               title  sentiment\n",
      "0  Stock futures are little changed as Wall Stree...  -0.187500\n",
      "1  Stocks making the biggest moves after hours: I...   0.500000\n",
      "2  U.S. oil holds to gains after three weeks of c...  -0.700000\n",
      "3  'Get Britain building again': New UK finance c...   0.136364\n",
      "4  Britain's Labour pulled off a thumping electio...   0.000000\n",
      "平均情感得分: 0.0642361111111111\n"
     ]
    }
   ],
   "source": [
    "from textblob import TextBlob\n",
    "\n",
    "def sentiment_analysis(text):\n",
    "    blob = TextBlob(text)\n",
    "    return blob.sentiment.polarity\n",
    "\n",
    "all_news['sentiment'] = all_news['title'].apply(sentiment_analysis)\n",
    "\n",
    "print(all_news[['title', 'sentiment']].head())\n",
    "print(f\"平均情感得分: {all_news['sentiment'].mean()}\")"
   ]
  },
  {
   "cell_type": "code",
   "execution_count": 6,
   "metadata": {},
   "outputs": [
    {
     "ename": "NameError",
     "evalue": "name 'STOCKS' is not defined",
     "output_type": "error",
     "traceback": [
      "\u001b[0;31m---------------------------------------------------------------------------\u001b[0m",
      "\u001b[0;31mNameError\u001b[0m                                 Traceback (most recent call last)",
      "Cell \u001b[0;32mIn[6], line 12\u001b[0m\n\u001b[1;32m      9\u001b[0m     \u001b[38;5;28;01mreturn\u001b[39;00m combined_score\n\u001b[1;32m     11\u001b[0m \u001b[38;5;66;03m# 假设 STOCKS 是你要分析的股票列表\u001b[39;00m\n\u001b[0;32m---> 12\u001b[0m \u001b[38;5;28;01mfor\u001b[39;00m ticker \u001b[38;5;129;01min\u001b[39;00m \u001b[43mSTOCKS\u001b[49m:\n\u001b[1;32m     13\u001b[0m     combined_score \u001b[38;5;241m=\u001b[39m combine_analysis(ticker, stock_data, all_news)\n\u001b[1;32m     14\u001b[0m     \u001b[38;5;28mprint\u001b[39m(\u001b[38;5;124mf\u001b[39m\u001b[38;5;124m\"\u001b[39m\u001b[38;5;132;01m{\u001b[39;00mticker\u001b[38;5;132;01m}\u001b[39;00m\u001b[38;5;124m 综合得分: \u001b[39m\u001b[38;5;132;01m{\u001b[39;00mcombined_score\u001b[38;5;132;01m:\u001b[39;00m\u001b[38;5;124m.2f\u001b[39m\u001b[38;5;132;01m}\u001b[39;00m\u001b[38;5;124m\"\u001b[39m)\n",
      "\u001b[0;31mNameError\u001b[0m: name 'STOCKS' is not defined"
     ]
    }
   ],
   "source": [
    "def combine_analysis(ticker, stock_data, news_data):\n",
    "    stock_analysis = stock_data.get(ticker, {})\n",
    "    relevant_news = news_data[news_data['title'].str.contains(ticker, case=False)]\n",
    "    avg_sentiment = relevant_news['sentiment'].mean() if not relevant_news.empty else 0\n",
    "    \n",
    "    # 这里的权重可以根据实际情况调整\n",
    "    technical_score = stock_analysis.get('additional_win_rate', 50) / 100\n",
    "    combined_score = (technical_score * 0.7 + avg_sentiment * 0.3)\n",
    "    return combined_score\n",
    "\n",
    "# 假设 STOCKS 是你要分析的股票列表\n",
    "for ticker in STOCKS:\n",
    "    combined_score = combine_analysis(ticker, stock_data, all_news)\n",
    "    print(f\"{ticker} 综合得分: {combined_score:.2f}\")"
   ]
  }
 ],
 "metadata": {
  "kernelspec": {
   "display_name": "stock_env",
   "language": "python",
   "name": "python3"
  },
  "language_info": {
   "codemirror_mode": {
    "name": "ipython",
    "version": 3
   },
   "file_extension": ".py",
   "mimetype": "text/x-python",
   "name": "python",
   "nbconvert_exporter": "python",
   "pygments_lexer": "ipython3",
   "version": "3.9.19"
  }
 },
 "nbformat": 4,
 "nbformat_minor": 2
}
